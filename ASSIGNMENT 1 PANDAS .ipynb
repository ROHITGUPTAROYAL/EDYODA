{
 "cells": [
  {
   "cell_type": "code",
   "execution_count": 1,
   "id": "ac8d999d",
   "metadata": {},
   "outputs": [],
   "source": [
    "import numpy as np"
   ]
  },
  {
   "cell_type": "code",
   "execution_count": 5,
   "id": "d4cce887",
   "metadata": {},
   "outputs": [
    {
     "name": "stdout",
     "output_type": "stream",
     "text": [
      "[0 0 0 0 1 0 0 0 0 0]\n"
     ]
    }
   ],
   "source": [
    "# Q.1 Create a null vector of size 10 but the fifth value which is 1.\n",
    "bro = np.zeros(10,dtype = int)\n",
    "bro[4] = 1\n",
    "print(bro)"
   ]
  },
  {
   "cell_type": "code",
   "execution_count": 6,
   "id": "d3a50920",
   "metadata": {},
   "outputs": [
    {
     "name": "stdout",
     "output_type": "stream",
     "text": [
      "[10 11 12 13 14 15 16 17 18 19 20 21 22 23 24 25 26 27 28 29 30 31 32 33\n",
      " 34 35 36 37 38 39 40 41 42 43 44 45 46 47 48]\n"
     ]
    }
   ],
   "source": [
    "# Q.2 Create a vector with values ranging from 10 to 49.\n",
    "bro = np.arange(10,49)\n",
    "print(bro)"
   ]
  },
  {
   "cell_type": "code",
   "execution_count": 7,
   "id": "ed54f6a1",
   "metadata": {},
   "outputs": [
    {
     "name": "stdout",
     "output_type": "stream",
     "text": [
      "[[0 1 2]\n",
      " [3 4 5]\n",
      " [6 7 8]]\n"
     ]
    }
   ],
   "source": [
    "# Q.3 Create a 3x3 matrix with values ranging from 0 to 8.\n",
    "arr = np.arange(0,9).reshape(3,3)\n",
    "print(arr)"
   ]
  },
  {
   "cell_type": "code",
   "execution_count": 8,
   "id": "902c5e04",
   "metadata": {},
   "outputs": [
    {
     "name": "stdout",
     "output_type": "stream",
     "text": [
      "(array([0, 1, 4], dtype=int64),)\n"
     ]
    }
   ],
   "source": [
    "# Q.4 Find indices of non-zero elements from [1,2,0,0,4,0]\n",
    "bro = np.nonzero([1,2,0,0,4,0])\n",
    "print(bro)"
   ]
  },
  {
   "cell_type": "code",
   "execution_count": null,
   "id": "551ae57e",
   "metadata": {},
   "outputs": [],
   "source": [
    "# Q.5 Create a 10x10 array with random values and find the minimum and maximum values.\n",
    "arr = np.random.randint(100,size =(10,10))\n",
    "print(arr)\n",
    "print(np.min(arr))\n",
    "print(np.max(arr))"
   ]
  }
 ],
 "metadata": {
  "kernelspec": {
   "display_name": "Python 3 (ipykernel)",
   "language": "python",
   "name": "python3"
  },
  "language_info": {
   "codemirror_mode": {
    "name": "ipython",
    "version": 3
   },
   "file_extension": ".py",
   "mimetype": "text/x-python",
   "name": "python",
   "nbconvert_exporter": "python",
   "pygments_lexer": "ipython3",
   "version": "3.9.7"
  }
 },
 "nbformat": 4,
 "nbformat_minor": 5
}
